{
 "cells": [
  {
   "cell_type": "code",
   "execution_count": null,
   "metadata": {},
   "outputs": [],
   "source": [
    "# 📦 Step 1: Setup & Imports\n",
    "import torch\n",
    "from torch.utils.data import DataLoader\n",
    "import matplotlib.pyplot as plt\n",
    "import seaborn as sns\n",
    "import numpy as np\n",
    "\n",
    "import sys\n",
    "import os\n",
    "\n",
    "# 🔧 Add project root to Python path\n",
    "project_root = os.path.abspath(os.path.join(os.getcwd(), \"..\"))\n",
    "if project_root not in sys.path:\n",
    "    sys.path.append(project_root)\n",
    "\n",
    "from model.model import RewardModel\n",
    "from data.prepare_dataset import PairwisePreferenceDataset\n",
    "\n",
    "# 📍 Config\n",
    "device = torch.device(\"cuda\" if torch.cuda.is_available() else \"cpu\")\n",
    "model_name = \"bert-base-uncased\"\n",
    "checkpoint_path = \"checkpoints/reward_model_epoch3.pt\"\n",
    "max_length = 256\n",
    "batch_size = 4\n",
    "\n",
    "# ✅ Load model\n",
    "model = RewardModel(model_name)\n",
    "model.load_state_dict(torch.load(checkpoint_path, map_location=device))\n",
    "model.to(device)\n",
    "model.eval()\n",
    "print(\"✅ Model loaded.\")\n",
    "\n",
    "# ✅ Load validation data\n",
    "dataset = PairwisePreferenceDataset(split=\"test\", model_name=model_name, max_length=max_length)\n",
    "loader = DataLoader(dataset, batch_size=batch_size)\n",
    "\n",
    "# 🧪 Step 2: Score chosen and rejected\n",
    "chosen_scores = []\n",
    "rejected_scores = []\n",
    "\n",
    "with torch.no_grad():\n",
    "    for batch in loader:\n",
    "        chosen_ids = batch[\"input_ids_chosen\"].to(device)\n",
    "        chosen_mask = batch[\"attention_mask_chosen\"].to(device)\n",
    "        rejected_ids = batch[\"input_ids_rejected\"].to(device)\n",
    "        rejected_mask = batch[\"attention_mask_rejected\"].to(device)\n",
    "\n",
    "        r_chosen = model(chosen_ids, chosen_mask).cpu().numpy()\n",
    "        r_rejected = model(rejected_ids, rejected_mask).cpu().numpy()\n",
    "\n",
    "        chosen_scores.extend(r_chosen)\n",
    "        rejected_scores.extend(r_rejected)\n",
    "\n",
    "# 💡 Convert to NumPy arrays\n",
    "chosen_scores = np.array(chosen_scores)\n",
    "rejected_scores = np.array(rejected_scores)\n",
    "score_diff = chosen_scores - rejected_scores\n",
    "accuracy = np.mean(score_diff > 0)\n",
    "\n",
    "print(f\"✅ Model Accuracy: {accuracy * 100:.2f}%\")\n"
   ]
  },
  {
   "cell_type": "code",
   "execution_count": null,
   "metadata": {},
   "outputs": [],
   "source": [
    "# 📊 Histogram: Reward Score Distribution\n",
    "plt.figure(figsize=(10, 6))\n",
    "sns.histplot(chosen_scores, color=\"green\", label=\"Chosen\", kde=True, stat=\"density\")\n",
    "sns.histplot(rejected_scores, color=\"red\", label=\"Rejected\", kde=True, stat=\"density\")\n",
    "plt.axvline(0, linestyle='--', color='gray')\n",
    "plt.title(\"Reward Score Distribution\")\n",
    "plt.xlabel(\"Reward Score\")\n",
    "plt.ylabel(\"Density\")\n",
    "plt.legend()\n",
    "plt.grid(True)\n",
    "plt.show()"
   ]
  },
  {
   "cell_type": "code",
   "execution_count": null,
   "metadata": {},
   "outputs": [],
   "source": [
    "# 📉 Histogram: Difference (Chosen - Rejected)\n",
    "plt.figure(figsize=(10, 6))\n",
    "sns.histplot(score_diff, bins=50, kde=True, color=\"purple\")\n",
    "plt.axvline(0, linestyle='--', color='gray')\n",
    "plt.title(\"Reward Score Differences (Chosen - Rejected)\")\n",
    "plt.xlabel(\"Difference\")\n",
    "plt.ylabel(\"Count\")\n",
    "plt.grid(True)\n",
    "plt.show()\n"
   ]
  }
 ],
 "metadata": {
  "kernelspec": {
   "display_name": "rl_env",
   "language": "python",
   "name": "python3"
  },
  "language_info": {
   "codemirror_mode": {
    "name": "ipython",
    "version": 3
   },
   "file_extension": ".py",
   "mimetype": "text/x-python",
   "name": "python",
   "nbconvert_exporter": "python",
   "pygments_lexer": "ipython3",
   "version": "3.13.2"
  }
 },
 "nbformat": 4,
 "nbformat_minor": 2
}
